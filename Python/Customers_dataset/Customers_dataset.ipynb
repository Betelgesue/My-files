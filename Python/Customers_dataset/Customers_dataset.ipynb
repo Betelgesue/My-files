{
 "cells": [
  {
   "cell_type": "markdown",
   "metadata": {},
   "source": [
    "## Customers dataset"
   ]
  },
  {
   "cell_type": "markdown",
   "metadata": {},
   "source": [
    "This file uses pandas, numpy and matplotlib for data processing and visualization.\n",
    "This is a dummy dataset for non existing company, generated with Mockaroo and split into 3 excel files."
   ]
  },
  {
   "cell_type": "code",
   "execution_count": 1,
   "metadata": {},
   "outputs": [],
   "source": [
    "import pandas as pd\n",
    "import numpy as np\n",
    "import matplotlib.pyplot as plt\n",
    "import os\n",
    "\n",
    "%matplotlib inline"
   ]
  },
  {
   "cell_type": "markdown",
   "metadata": {},
   "source": [
    "Use os.listdir() to obtain every filename in current directory. Then iterate through it to see if it is \"xlsx\" file. If yes, then add it to frame_list. Then create DataFrame from frame_list and delete variable."
   ]
  },
  {
   "cell_type": "code",
   "execution_count": 2,
   "metadata": {},
   "outputs": [],
   "source": [
    "my_dir = os.listdir()\n",
    "frame_list = []\n",
    "\n",
    "for file in my_dir:\n",
    "    if 'xlsx' in file:\n",
    "        \n",
    "        df = pd.read_excel(file, sheet_name = 'Sheet1')\n",
    "        frame_list.append(df)\n",
    "        \n",
    "frame = pd.concat(frame_list, axis = 0, ignore_index = True)\n",
    "del frame_list    "
   ]
  },
  {
   "cell_type": "code",
   "execution_count": 3,
   "metadata": {},
   "outputs": [],
   "source": [
    "# Set index to start from 1 instead of 0\n",
    "frame.index = frame.index + 1"
   ]
  },
  {
   "cell_type": "code",
   "execution_count": 4,
   "metadata": {},
   "outputs": [
    {
     "data": {
      "text/html": [
       "<div>\n",
       "<style scoped>\n",
       "    .dataframe tbody tr th:only-of-type {\n",
       "        vertical-align: middle;\n",
       "    }\n",
       "\n",
       "    .dataframe tbody tr th {\n",
       "        vertical-align: top;\n",
       "    }\n",
       "\n",
       "    .dataframe thead th {\n",
       "        text-align: right;\n",
       "    }\n",
       "</style>\n",
       "<table border=\"1\" class=\"dataframe\">\n",
       "  <thead>\n",
       "    <tr style=\"text-align: right;\">\n",
       "      <th></th>\n",
       "      <th>first_name</th>\n",
       "      <th>last_name</th>\n",
       "      <th>email_address</th>\n",
       "      <th>gender</th>\n",
       "      <th>birth_date</th>\n",
       "      <th>country</th>\n",
       "      <th>order_date</th>\n",
       "      <th>city</th>\n",
       "      <th>cc_number</th>\n",
       "      <th>purchase_amount</th>\n",
       "    </tr>\n",
       "  </thead>\n",
       "  <tbody>\n",
       "    <tr>\n",
       "      <th>1</th>\n",
       "      <td>Berk</td>\n",
       "      <td>Guirard</td>\n",
       "      <td>berk.guirard@hotmail.com</td>\n",
       "      <td>M</td>\n",
       "      <td>15/07/2001</td>\n",
       "      <td>Iceland</td>\n",
       "      <td>10/01/2020</td>\n",
       "      <td>Reykjanesbær</td>\n",
       "      <td>5002353312956543</td>\n",
       "      <td>1902.84</td>\n",
       "    </tr>\n",
       "    <tr>\n",
       "      <th>2</th>\n",
       "      <td>Adrienne</td>\n",
       "      <td>Burner</td>\n",
       "      <td>adrienne.burner@hotmail.com</td>\n",
       "      <td>F</td>\n",
       "      <td>09/04/1989</td>\n",
       "      <td>Iceland</td>\n",
       "      <td>28/08/2020</td>\n",
       "      <td>Reykjanesbær</td>\n",
       "      <td>4903291885270160</td>\n",
       "      <td>552.09</td>\n",
       "    </tr>\n",
       "    <tr>\n",
       "      <th>3</th>\n",
       "      <td>Saunders</td>\n",
       "      <td>O'Halligan</td>\n",
       "      <td>saunders.o'halligan@gmail.com</td>\n",
       "      <td>M</td>\n",
       "      <td>12/06/1966</td>\n",
       "      <td>Iceland</td>\n",
       "      <td>11/01/2020</td>\n",
       "      <td>Reykjanesbær</td>\n",
       "      <td>4063696196215</td>\n",
       "      <td>2498.82</td>\n",
       "    </tr>\n",
       "    <tr>\n",
       "      <th>4</th>\n",
       "      <td>Christoffer</td>\n",
       "      <td>Wixey</td>\n",
       "      <td>christoffer.wixey@hotmail.com</td>\n",
       "      <td>M</td>\n",
       "      <td>16/06/1983</td>\n",
       "      <td>Iceland</td>\n",
       "      <td>26/06/2020</td>\n",
       "      <td>Reykjanesbær</td>\n",
       "      <td>5372117561668378</td>\n",
       "      <td>429.90</td>\n",
       "    </tr>\n",
       "    <tr>\n",
       "      <th>5</th>\n",
       "      <td>Corey</td>\n",
       "      <td>Cumming</td>\n",
       "      <td>corey.cumming@yahoo.com</td>\n",
       "      <td>M</td>\n",
       "      <td>18/12/1971</td>\n",
       "      <td>Iceland</td>\n",
       "      <td>29/02/2020</td>\n",
       "      <td>Reykjanesbær</td>\n",
       "      <td>491113297660013824</td>\n",
       "      <td>713.31</td>\n",
       "    </tr>\n",
       "  </tbody>\n",
       "</table>\n",
       "</div>"
      ],
      "text/plain": [
       "    first_name   last_name                  email_address gender  birth_date  \\\n",
       "1         Berk     Guirard       berk.guirard@hotmail.com      M  15/07/2001   \n",
       "2     Adrienne      Burner    adrienne.burner@hotmail.com      F  09/04/1989   \n",
       "3     Saunders  O'Halligan  saunders.o'halligan@gmail.com      M  12/06/1966   \n",
       "4  Christoffer       Wixey  christoffer.wixey@hotmail.com      M  16/06/1983   \n",
       "5        Corey     Cumming        corey.cumming@yahoo.com      M  18/12/1971   \n",
       "\n",
       "   country  order_date          city           cc_number  purchase_amount  \n",
       "1  Iceland  10/01/2020  Reykjanesbær    5002353312956543          1902.84  \n",
       "2  Iceland  28/08/2020  Reykjanesbær    4903291885270160           552.09  \n",
       "3  Iceland  11/01/2020  Reykjanesbær       4063696196215          2498.82  \n",
       "4  Iceland  26/06/2020  Reykjanesbær    5372117561668378           429.90  \n",
       "5  Iceland  29/02/2020  Reykjanesbær  491113297660013824           713.31  "
      ]
     },
     "execution_count": 4,
     "metadata": {},
     "output_type": "execute_result"
    }
   ],
   "source": [
    "frame.head(5)"
   ]
  },
  {
   "cell_type": "markdown",
   "metadata": {},
   "source": [
    "Display basic info about the DataFrame (num of columns, rows, data types)\n",
    "Also aquire basic statistic values."
   ]
  },
  {
   "cell_type": "code",
   "execution_count": 5,
   "metadata": {},
   "outputs": [
    {
     "name": "stdout",
     "output_type": "stream",
     "text": [
      "<class 'pandas.core.frame.DataFrame'>\n",
      "RangeIndex: 1000 entries, 1 to 1000\n",
      "Data columns (total 10 columns):\n",
      " #   Column           Non-Null Count  Dtype  \n",
      "---  ------           --------------  -----  \n",
      " 0   first_name       1000 non-null   object \n",
      " 1   last_name        1000 non-null   object \n",
      " 2   email_address    1000 non-null   object \n",
      " 3   gender           1000 non-null   object \n",
      " 4   birth_date       1000 non-null   object \n",
      " 5   country          1000 non-null   object \n",
      " 6   order_date       1000 non-null   object \n",
      " 7   city             1000 non-null   object \n",
      " 8   cc_number        1000 non-null   int64  \n",
      " 9   purchase_amount  1000 non-null   float64\n",
      "dtypes: float64(1), int64(1), object(8)\n",
      "memory usage: 78.3+ KB\n"
     ]
    }
   ],
   "source": [
    "frame.info()"
   ]
  },
  {
   "cell_type": "code",
   "execution_count": 6,
   "metadata": {},
   "outputs": [
    {
     "data": {
      "text/plain": [
       "count    1000.000000\n",
       "mean     1593.802500\n",
       "std       848.122417\n",
       "min        21.530000\n",
       "25%       912.722500\n",
       "50%      1646.720000\n",
       "75%      2301.790000\n",
       "max      2997.480000\n",
       "Name: purchase_amount, dtype: float64"
      ]
     },
     "execution_count": 6,
     "metadata": {},
     "output_type": "execute_result"
    }
   ],
   "source": [
    "frame['purchase_amount'].describe()"
   ]
  },
  {
   "cell_type": "markdown",
   "metadata": {},
   "source": [
    "# Find some useful information inside the DataFrame.\n",
    "1. Clients distribution across the countries\n",
    "2. 5 most popular cities\n",
    "3. Average sales per gender\n",
    "4. Purchase per each country\n",
    "5. Most popular email domains"
   ]
  },
  {
   "cell_type": "code",
   "execution_count": 7,
   "metadata": {},
   "outputs": [
    {
     "data": {
      "text/plain": [
       "United Kingdom    580\n",
       "Ireland           357\n",
       "Iceland            63\n",
       "Name: country, dtype: int64"
      ]
     },
     "execution_count": 7,
     "metadata": {},
     "output_type": "execute_result"
    }
   ],
   "source": [
    "# 1\n",
    "frame['country'].value_counts()"
   ]
  },
  {
   "cell_type": "code",
   "execution_count": 8,
   "metadata": {},
   "outputs": [
    {
     "data": {
      "text/plain": [
       "London       350\n",
       "Dublin       110\n",
       "Belfast       83\n",
       "Liverpool     73\n",
       "Glasgow       67\n",
       "Name: city, dtype: int64"
      ]
     },
     "execution_count": 8,
     "metadata": {},
     "output_type": "execute_result"
    }
   ],
   "source": [
    "# 2\n",
    "frame['city'].value_counts().head(5)"
   ]
  },
  {
   "cell_type": "code",
   "execution_count": 9,
   "metadata": {},
   "outputs": [
    {
     "data": {
      "text/plain": [
       "gender\n",
       "F    1541.314009\n",
       "M    1633.237811\n",
       "Name: purchase_amount, dtype: float64"
      ]
     },
     "execution_count": 9,
     "metadata": {},
     "output_type": "execute_result"
    }
   ],
   "source": [
    "# 3\n",
    "frame.groupby('gender').mean()['purchase_amount']"
   ]
  },
  {
   "cell_type": "code",
   "execution_count": 10,
   "metadata": {},
   "outputs": [
    {
     "data": {
      "text/plain": [
       "country\n",
       "Iceland            79014.15\n",
       "Ireland           588158.65\n",
       "United Kingdom    926629.70\n",
       "Name: purchase_amount, dtype: float64"
      ]
     },
     "execution_count": 10,
     "metadata": {},
     "output_type": "execute_result"
    }
   ],
   "source": [
    "# 4\n",
    "frame.groupby('country').sum()['purchase_amount']"
   ]
  },
  {
   "cell_type": "code",
   "execution_count": 11,
   "metadata": {},
   "outputs": [
    {
     "data": {
      "text/plain": [
       "hotmail.com    369\n",
       "yahoo.com      318\n",
       "gmail.com      313\n",
       "Name: email_address, dtype: int64"
      ]
     },
     "execution_count": 11,
     "metadata": {},
     "output_type": "execute_result"
    }
   ],
   "source": [
    "# 5\n",
    "frame['email_address'].apply(lambda x: x.split('@')[1]).value_counts()"
   ]
  },
  {
   "cell_type": "markdown",
   "metadata": {},
   "source": [
    "Format \"order_date\" and \"birth_date\" columns into datetime format.\n",
    "Add 'quarter' and 'month' column to obtain data for plots."
   ]
  },
  {
   "cell_type": "code",
   "execution_count": 12,
   "metadata": {},
   "outputs": [],
   "source": [
    "# Format order_date column\n",
    "frame['order_date'] = pd.to_datetime(frame['order_date'], format='%d/%m/%Y')\n",
    "frame['birth_date'] = pd.to_datetime(frame['birth_date'], format='%d/%m/%Y')"
   ]
  },
  {
   "cell_type": "code",
   "execution_count": 13,
   "metadata": {},
   "outputs": [],
   "source": [
    "# Add column for month and for \n",
    "frame['quarter'] = frame['order_date'].apply(lambda x: x.quarter)\n",
    "frame['month'] = frame['order_date'].apply(lambda x: x.month)"
   ]
  },
  {
   "cell_type": "code",
   "execution_count": 14,
   "metadata": {},
   "outputs": [
    {
     "data": {
      "text/html": [
       "<div>\n",
       "<style scoped>\n",
       "    .dataframe tbody tr th:only-of-type {\n",
       "        vertical-align: middle;\n",
       "    }\n",
       "\n",
       "    .dataframe tbody tr th {\n",
       "        vertical-align: top;\n",
       "    }\n",
       "\n",
       "    .dataframe thead th {\n",
       "        text-align: right;\n",
       "    }\n",
       "</style>\n",
       "<table border=\"1\" class=\"dataframe\">\n",
       "  <thead>\n",
       "    <tr style=\"text-align: right;\">\n",
       "      <th></th>\n",
       "      <th>first_name</th>\n",
       "      <th>last_name</th>\n",
       "      <th>email_address</th>\n",
       "      <th>gender</th>\n",
       "      <th>birth_date</th>\n",
       "      <th>country</th>\n",
       "      <th>order_date</th>\n",
       "      <th>city</th>\n",
       "      <th>cc_number</th>\n",
       "      <th>purchase_amount</th>\n",
       "      <th>quarter</th>\n",
       "      <th>month</th>\n",
       "    </tr>\n",
       "  </thead>\n",
       "  <tbody>\n",
       "    <tr>\n",
       "      <th>1</th>\n",
       "      <td>Berk</td>\n",
       "      <td>Guirard</td>\n",
       "      <td>berk.guirard@hotmail.com</td>\n",
       "      <td>M</td>\n",
       "      <td>2001-07-15</td>\n",
       "      <td>Iceland</td>\n",
       "      <td>2020-01-10</td>\n",
       "      <td>Reykjanesbær</td>\n",
       "      <td>5002353312956543</td>\n",
       "      <td>1902.84</td>\n",
       "      <td>1</td>\n",
       "      <td>1</td>\n",
       "    </tr>\n",
       "    <tr>\n",
       "      <th>2</th>\n",
       "      <td>Adrienne</td>\n",
       "      <td>Burner</td>\n",
       "      <td>adrienne.burner@hotmail.com</td>\n",
       "      <td>F</td>\n",
       "      <td>1989-04-09</td>\n",
       "      <td>Iceland</td>\n",
       "      <td>2020-08-28</td>\n",
       "      <td>Reykjanesbær</td>\n",
       "      <td>4903291885270160</td>\n",
       "      <td>552.09</td>\n",
       "      <td>3</td>\n",
       "      <td>8</td>\n",
       "    </tr>\n",
       "    <tr>\n",
       "      <th>3</th>\n",
       "      <td>Saunders</td>\n",
       "      <td>O'Halligan</td>\n",
       "      <td>saunders.o'halligan@gmail.com</td>\n",
       "      <td>M</td>\n",
       "      <td>1966-06-12</td>\n",
       "      <td>Iceland</td>\n",
       "      <td>2020-01-11</td>\n",
       "      <td>Reykjanesbær</td>\n",
       "      <td>4063696196215</td>\n",
       "      <td>2498.82</td>\n",
       "      <td>1</td>\n",
       "      <td>1</td>\n",
       "    </tr>\n",
       "    <tr>\n",
       "      <th>4</th>\n",
       "      <td>Christoffer</td>\n",
       "      <td>Wixey</td>\n",
       "      <td>christoffer.wixey@hotmail.com</td>\n",
       "      <td>M</td>\n",
       "      <td>1983-06-16</td>\n",
       "      <td>Iceland</td>\n",
       "      <td>2020-06-26</td>\n",
       "      <td>Reykjanesbær</td>\n",
       "      <td>5372117561668378</td>\n",
       "      <td>429.90</td>\n",
       "      <td>2</td>\n",
       "      <td>6</td>\n",
       "    </tr>\n",
       "    <tr>\n",
       "      <th>5</th>\n",
       "      <td>Corey</td>\n",
       "      <td>Cumming</td>\n",
       "      <td>corey.cumming@yahoo.com</td>\n",
       "      <td>M</td>\n",
       "      <td>1971-12-18</td>\n",
       "      <td>Iceland</td>\n",
       "      <td>2020-02-29</td>\n",
       "      <td>Reykjanesbær</td>\n",
       "      <td>491113297660013824</td>\n",
       "      <td>713.31</td>\n",
       "      <td>1</td>\n",
       "      <td>2</td>\n",
       "    </tr>\n",
       "    <tr>\n",
       "      <th>6</th>\n",
       "      <td>Johny</td>\n",
       "      <td>Rowat</td>\n",
       "      <td>johny.rowat@yahoo.com</td>\n",
       "      <td>M</td>\n",
       "      <td>1983-02-10</td>\n",
       "      <td>Iceland</td>\n",
       "      <td>2020-12-12</td>\n",
       "      <td>Reykjanesbær</td>\n",
       "      <td>5641827949809420</td>\n",
       "      <td>713.31</td>\n",
       "      <td>4</td>\n",
       "      <td>12</td>\n",
       "    </tr>\n",
       "    <tr>\n",
       "      <th>7</th>\n",
       "      <td>Barbie</td>\n",
       "      <td>Keasy</td>\n",
       "      <td>barbie.keasy@hotmail.com</td>\n",
       "      <td>F</td>\n",
       "      <td>2001-02-19</td>\n",
       "      <td>Iceland</td>\n",
       "      <td>2020-06-15</td>\n",
       "      <td>Reykjanesbær</td>\n",
       "      <td>4041373957836</td>\n",
       "      <td>1885.39</td>\n",
       "      <td>2</td>\n",
       "      <td>6</td>\n",
       "    </tr>\n",
       "    <tr>\n",
       "      <th>8</th>\n",
       "      <td>Artie</td>\n",
       "      <td>Derks</td>\n",
       "      <td>artie.derks@gmail.com</td>\n",
       "      <td>F</td>\n",
       "      <td>1976-05-27</td>\n",
       "      <td>Iceland</td>\n",
       "      <td>2020-11-19</td>\n",
       "      <td>Reykjanesbær</td>\n",
       "      <td>5100130768445473</td>\n",
       "      <td>1281.19</td>\n",
       "      <td>4</td>\n",
       "      <td>11</td>\n",
       "    </tr>\n",
       "    <tr>\n",
       "      <th>9</th>\n",
       "      <td>Mariejeanne</td>\n",
       "      <td>Clempton</td>\n",
       "      <td>mariejeanne.clempton@hotmail.com</td>\n",
       "      <td>F</td>\n",
       "      <td>2001-12-13</td>\n",
       "      <td>Iceland</td>\n",
       "      <td>2020-06-24</td>\n",
       "      <td>Reykjanesbær</td>\n",
       "      <td>4017958890860929</td>\n",
       "      <td>130.94</td>\n",
       "      <td>2</td>\n",
       "      <td>6</td>\n",
       "    </tr>\n",
       "    <tr>\n",
       "      <th>10</th>\n",
       "      <td>Dusty</td>\n",
       "      <td>Kemmons</td>\n",
       "      <td>dusty.kemmons@yahoo.com</td>\n",
       "      <td>M</td>\n",
       "      <td>1969-12-16</td>\n",
       "      <td>Iceland</td>\n",
       "      <td>2020-02-06</td>\n",
       "      <td>Reykjanesbær</td>\n",
       "      <td>4911083107008316</td>\n",
       "      <td>1113.02</td>\n",
       "      <td>1</td>\n",
       "      <td>2</td>\n",
       "    </tr>\n",
       "  </tbody>\n",
       "</table>\n",
       "</div>"
      ],
      "text/plain": [
       "     first_name   last_name                     email_address gender  \\\n",
       "1          Berk     Guirard          berk.guirard@hotmail.com      M   \n",
       "2      Adrienne      Burner       adrienne.burner@hotmail.com      F   \n",
       "3      Saunders  O'Halligan     saunders.o'halligan@gmail.com      M   \n",
       "4   Christoffer       Wixey     christoffer.wixey@hotmail.com      M   \n",
       "5         Corey     Cumming           corey.cumming@yahoo.com      M   \n",
       "6         Johny       Rowat             johny.rowat@yahoo.com      M   \n",
       "7        Barbie       Keasy          barbie.keasy@hotmail.com      F   \n",
       "8         Artie       Derks             artie.derks@gmail.com      F   \n",
       "9   Mariejeanne    Clempton  mariejeanne.clempton@hotmail.com      F   \n",
       "10        Dusty     Kemmons           dusty.kemmons@yahoo.com      M   \n",
       "\n",
       "   birth_date  country order_date          city           cc_number  \\\n",
       "1  2001-07-15  Iceland 2020-01-10  Reykjanesbær    5002353312956543   \n",
       "2  1989-04-09  Iceland 2020-08-28  Reykjanesbær    4903291885270160   \n",
       "3  1966-06-12  Iceland 2020-01-11  Reykjanesbær       4063696196215   \n",
       "4  1983-06-16  Iceland 2020-06-26  Reykjanesbær    5372117561668378   \n",
       "5  1971-12-18  Iceland 2020-02-29  Reykjanesbær  491113297660013824   \n",
       "6  1983-02-10  Iceland 2020-12-12  Reykjanesbær    5641827949809420   \n",
       "7  2001-02-19  Iceland 2020-06-15  Reykjanesbær       4041373957836   \n",
       "8  1976-05-27  Iceland 2020-11-19  Reykjanesbær    5100130768445473   \n",
       "9  2001-12-13  Iceland 2020-06-24  Reykjanesbær    4017958890860929   \n",
       "10 1969-12-16  Iceland 2020-02-06  Reykjanesbær    4911083107008316   \n",
       "\n",
       "    purchase_amount  quarter  month  \n",
       "1           1902.84        1      1  \n",
       "2            552.09        3      8  \n",
       "3           2498.82        1      1  \n",
       "4            429.90        2      6  \n",
       "5            713.31        1      2  \n",
       "6            713.31        4     12  \n",
       "7           1885.39        2      6  \n",
       "8           1281.19        4     11  \n",
       "9            130.94        2      6  \n",
       "10          1113.02        1      2  "
      ]
     },
     "execution_count": 14,
     "metadata": {},
     "output_type": "execute_result"
    }
   ],
   "source": [
    "frame.head(10)"
   ]
  },
  {
   "cell_type": "markdown",
   "metadata": {},
   "source": [
    "# Create 4 plots:\n",
    "1. Pie chart with customers distribution across the countries\n",
    "2. Line chart with total sum of sales in each month\n",
    "3. Bar chart with total sales in each quarter grouped by gender\n",
    "4. Bar chart with average sales in each quarter grouped by country"
   ]
  },
  {
   "cell_type": "markdown",
   "metadata": {},
   "source": [
    "1. Pie chart with customers distribution across the countries."
   ]
  },
  {
   "cell_type": "code",
   "execution_count": 15,
   "metadata": {},
   "outputs": [],
   "source": [
    "# Assign values to 'countries' variable and change them to percentages\n",
    "countries = []\n",
    "\n",
    "for num in frame['country'].value_counts():\n",
    "    countries.append( round((num/1000) * 100, 1)  )"
   ]
  },
  {
   "cell_type": "code",
   "execution_count": 16,
   "metadata": {},
   "outputs": [
    {
     "data": {
      "image/png": "[encoded data removed]",
      "text/plain": [
       "<Figure size 504x504 with 1 Axes>"
      ]
     },
     "metadata": {},
     "output_type": "display_data"
    }
   ],
   "source": [
    "# Use matplotlib.pyplot to create a pie chart. \n",
    "labels = 'United Kingdom', 'Ireland', 'Iceland'\n",
    "sizes = countries\n",
    "explode = (0.05, 0.05, 0.05)\n",
    "\n",
    "plt.rcParams['font.size'] = 14\n",
    "\n",
    "fig, ax = plt.subplots(figsize = (7,7))\n",
    "ax.pie(sizes, explode = explode, labels = labels, shadow = True, startangle = 90, autopct ='%1.1f%%')\n",
    "ax.axis('equal')\n",
    "\n",
    "plt.show()"
   ]
  },
  {
   "cell_type": "markdown",
   "metadata": {},
   "source": [
    "2. Line chart with total sum of sales in each month."
   ]
  },
  {
   "cell_type": "code",
   "execution_count": 17,
   "metadata": {},
   "outputs": [
    {
     "name": "stdout",
     "output_type": "stream",
     "text": [
      "(1, 164950.25)\n",
      "(2, 125972.94)\n",
      "(3, 123113.08)\n",
      "(4, 119717.25)\n",
      "(5, 134932.67)\n",
      "(6, 119358.7)\n",
      "(7, 166456.95)\n",
      "(8, 126528.83)\n",
      "(9, 118972.41)\n",
      "(10, 121089.7)\n",
      "(11, 134941.11)\n",
      "(12, 137768.61)\n"
     ]
    }
   ],
   "source": [
    "# Extract months as an array.\n",
    "# Use loop to iterate and append values for each month into list.\n",
    "\n",
    "months = frame['month'].unique()\n",
    "months.sort()\n",
    "\n",
    "month_amount = frame.groupby(['month']).sum()['purchase_amount']\n",
    "months_sum = []\n",
    "\n",
    "for amount in month_amount:\n",
    "    months_sum.append(round(amount, 2))\n",
    "    \n",
    "# Print to check if values are assigned correctly.\n",
    "for pair in zip(months, months_sum):\n",
    "    print(pair)"
   ]
  },
  {
   "cell_type": "code",
   "execution_count": 18,
   "metadata": {},
   "outputs": [],
   "source": [
    "# Create a function to add lables for plot\n",
    "def addlabels_plot(x, y):\n",
    "    for i in range(len(x)):\n",
    "        plt.text(i, y[i], y[i])"
   ]
  },
  {
   "cell_type": "code",
   "execution_count": 19,
   "metadata": {},
   "outputs": [
    {
     "data": {
      "image/png": "[encoded data removed]",
      "text/plain": [
       "<Figure size 1152x504 with 1 Axes>"
      ]
     },
     "metadata": {
      "needs_background": "light"
     },
     "output_type": "display_data"
    }
   ],
   "source": [
    "# Use matplotlib.pyplot together with previously defined function to create a line plot\n",
    "width = 0.4\n",
    "months.sort()\n",
    "\n",
    "plt.figure(figsize = (16, 7))\n",
    "plt.rcParams['font.size'] = 14\n",
    "\n",
    "plt.plot(months, months_sum, marker = 'o')\n",
    "plt.xlabel('Months')\n",
    "plt.ylabel('Sum of sales')\n",
    "\n",
    "addlabels_plot(months, months_sum)\n",
    "\n",
    "plt.ylim(90000, 180000)\n",
    "plt.title('Sum of sales in each month', fontsize = 16)\n",
    "\n",
    "plt.show()"
   ]
  },
  {
   "cell_type": "markdown",
   "metadata": {},
   "source": [
    "3. Bar chart with total sales in each quarter grouped by gender"
   ]
  },
  {
   "cell_type": "code",
   "execution_count": 20,
   "metadata": {},
   "outputs": [
    {
     "data": {
      "text/plain": [
       "quarter  gender\n",
       "1        F         161014.11\n",
       "         M         253022.16\n",
       "2        F         154736.90\n",
       "         M         219271.72\n",
       "3        F         169426.82\n",
       "         M         242531.37\n",
       "4        F         176045.88\n",
       "         M         217753.54\n",
       "Name: purchase_amount, dtype: float64"
      ]
     },
     "execution_count": 20,
     "metadata": {},
     "output_type": "execute_result"
    }
   ],
   "source": [
    "# Assign grouped data into 'plt_frame'. Iterate through it to create 2 lists for women and men.\n",
    "\n",
    "plt_frame = frame.groupby(['quarter', 'gender']).sum()['purchase_amount']\n",
    "women_sum = []\n",
    "men_sum = []\n",
    "\n",
    "for i in range(1,5):\n",
    "    women_sum.append(round(plt_frame[i]['F'],0))\n",
    "    men_sum.append(round(plt_frame[i]['M'],0))\n",
    "\n",
    "plt_frame"
   ]
  },
  {
   "cell_type": "code",
   "execution_count": 21,
   "metadata": {},
   "outputs": [],
   "source": [
    "# Create functions to add lables for plot\n",
    "\n",
    "def addlabels_men(x, y):\n",
    "    for i in range(len(x)):\n",
    "        plt.text(i + 0.8, y[i], y[i], ha = 'center')\n",
    "\n",
    "def addlabels_women(x, y):\n",
    "    for i in range(len(x)):\n",
    "        plt.text(i + 1.2, y[i], y[i], ha = 'center')"
   ]
  },
  {
   "cell_type": "code",
   "execution_count": 22,
   "metadata": {},
   "outputs": [
    {
     "data": {
      "image/png": "[encoded data removed]",
      "text/plain": [
       "<Figure size 864x432 with 1 Axes>"
      ]
     },
     "metadata": {
      "needs_background": "light"
     },
     "output_type": "display_data"
    }
   ],
   "source": [
    "# Use matplotlib.pyplot together with previously defined functions to create bar plot for comparasion betweem genders\n",
    "quarters = ['Q1', 'Q2', 'Q3', 'Q4']\n",
    "x = np.arange(1,5)\n",
    "width = 0.4\n",
    "\n",
    "plt.rcParams['font.size'] = 14\n",
    "plt.figure(figsize = (12,6))\n",
    "\n",
    "# Plot bars on a figure.\n",
    "plt.bar(x-0.2, men_sum, width, label = 'Men')\n",
    "plt.bar(x + 0.2, women_sum, width, label = 'Women')\n",
    "\n",
    "# Use previously defined functions to add labels.\n",
    "addlabels_men(quarters,men_sum)\n",
    "addlabels_women(quarters, women_sum)\n",
    "\n",
    "plt.ylabel('Sum of sales')\n",
    "plt.ylim(0, 300000)\n",
    "\n",
    "plt.xlabel('Quarter')\n",
    "plt.xticks(x, quarters)\n",
    "\n",
    "plt.title('Sales per quarter')\n",
    "plt.legend()\n",
    "plt.tight_layout()"
   ]
  },
  {
   "cell_type": "markdown",
   "metadata": {},
   "source": [
    "4. Bar chart with average sales in each quarter grouped by country."
   ]
  },
  {
   "cell_type": "code",
   "execution_count": 23,
   "metadata": {},
   "outputs": [
    {
     "data": {
      "text/plain": [
       "quarter  country       \n",
       "1        Iceland           1425.588889\n",
       "         Ireland           1710.759639\n",
       "         United Kingdom    1642.550800\n",
       "2        Iceland            986.375000\n",
       "         Ireland           1628.951170\n",
       "         United Kingdom    1580.848889\n",
       "3        Iceland           1322.523750\n",
       "         Ireland           1628.828925\n",
       "         United Kingdom    1622.707208\n",
       "4        Iceland           1404.874000\n",
       "         Ireland           1627.162069\n",
       "         United Kingdom    1541.088067\n",
       "Name: purchase_amount, dtype: float64"
      ]
     },
     "execution_count": 23,
     "metadata": {},
     "output_type": "execute_result"
    }
   ],
   "source": [
    "# Assign grouped data into 'quart'.\n",
    "quart = frame.groupby(['quarter', 'country']).mean()['purchase_amount']\n",
    "quart"
   ]
  },
  {
   "cell_type": "code",
   "execution_count": 24,
   "metadata": {},
   "outputs": [
    {
     "name": "stdout",
     "output_type": "stream",
     "text": [
      " 1. (1425.59, 1710.76, 1642.55) \n",
      " 2. (986.37, 1628.95, 1580.85) \n",
      " 3. (1322.52, 1628.83, 1622.71) \n",
      " 4. (1404.87, 1627.16, 1541.09) \n"
     ]
    }
   ],
   "source": [
    "# Iterate through quart to obtain data for each country and append it to corresponding list.\n",
    "iceland_sum = []\n",
    "ireland_sum = []\n",
    "uk_sum = []\n",
    "\n",
    "for i in range(1, 5):\n",
    "    iceland_sum.append(round(quart[i]['Iceland'],2))\n",
    "    ireland_sum.append(round(quart[i]['Ireland'],2))\n",
    "    uk_sum.append(round(quart[i]['United Kingdom'],2))\n",
    "\n",
    "# Print to check if values are assigned correctly.\n",
    "for index, num in enumerate(zip(iceland_sum, ireland_sum, uk_sum)):\n",
    "    print(f' {index + 1}. {num} ')\n"
   ]
  },
  {
   "cell_type": "code",
   "execution_count": 25,
   "metadata": {},
   "outputs": [],
   "source": [
    "# Create functions to add lables for plot\n",
    "def addlabels_uk(x, y):\n",
    "    for i in range(len(x)):\n",
    "        plt.text(i + 0.7, y[i], y[i], ha = 'center')\n",
    "\n",
    "def addlabels_ireland(x, y):\n",
    "    for i in range(len(x)):\n",
    "        plt.text(i + 1, y[i], y[i], ha = 'center')\n",
    "        \n",
    "def addlabels_iceland(x, y):\n",
    "    for i in range(len(x)):\n",
    "        plt.text(i + 1.3, y[i], y[i], ha = 'center')"
   ]
  },
  {
   "cell_type": "code",
   "execution_count": 26,
   "metadata": {},
   "outputs": [
    {
     "data": {
      "image/png": "[encoded data removed]",
      "text/plain": [
       "<Figure size 1008x504 with 1 Axes>"
      ]
     },
     "metadata": {
      "needs_background": "light"
     },
     "output_type": "display_data"
    }
   ],
   "source": [
    "# Use matplotlib.pyplot together with previously defined functions to create bar plot for comparasion betweem countries.\n",
    "quarters = ['Q1', 'Q2', 'Q3', 'Q4']\n",
    "x = np.arange(1, 5)\n",
    "width = 0.3\n",
    "\n",
    "plt.rcParams['font.size'] = 14\n",
    "plt.figure(figsize = (14,7))\n",
    "\n",
    "# Plot bards foe each country on a figure\n",
    "plt.bar(x-width, uk_sum, width, label = 'United Kingdom')\n",
    "plt.bar(x, ireland_sum, width, label = 'Ireland')\n",
    "plt.bar(x+width, iceland_sum, width, label = 'Iceland' )\n",
    "\n",
    "# Use previously defined functions to add labels for each bar.\n",
    "addlabels_uk(quarters, uk_sum)\n",
    "addlabels_ireland(quarters, ireland_sum)\n",
    "addlabels_iceland(quarters, iceland_sum)\n",
    "\n",
    "plt.ylabel('Average sales')\n",
    "plt.ylim(600, 2000)\n",
    "\n",
    "plt.xlabel('Quarter')\n",
    "plt.xticks(x, quarters)\n",
    "\n",
    "plt.title('Average sales per quarter in each country')\n",
    "plt.legend()\n",
    "plt.tight_layout()"
   ]
  }
 ],
 "metadata": {
  "kernelspec": {
   "display_name": "Python 3",
   "language": "python",
   "name": "python3"
  },
  "language_info": {
   "codemirror_mode": {
    "name": "ipython",
    "version": 3
   },
   "file_extension": ".py",
   "mimetype": "text/x-python",
   "name": "python",
   "nbconvert_exporter": "python",
   "pygments_lexer": "ipython3",
   "version": "3.8.3"
  }
 },
 "nbformat": 4,
 "nbformat_minor": 4
}
